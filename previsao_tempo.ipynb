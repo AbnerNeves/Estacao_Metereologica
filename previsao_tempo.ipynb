{
 "cells": [
  {
   "cell_type": "markdown",
   "metadata": {},
   "source": [
    "# Universidade Estadual do Amazonas"
   ]
  },
  {
   "cell_type": "markdown",
   "metadata": {},
   "source": [
    "## Pós Graduação em Ciência de Dados"
   ]
  },
  {
   "cell_type": "markdown",
   "metadata": {},
   "source": [
    "## Fundamentos de Machine Learning"
   ]
  },
  {
   "cell_type": "markdown",
   "metadata": {},
   "source": [
    "#### Alunos:\n",
    "* Abner\n",
    "* Emiliandro\n",
    "* Samuel\n",
    "* Wendel"
   ]
  },
  {
   "cell_type": "markdown",
   "metadata": {},
   "source": [
    "Aplicação de Machine Learning em bases de dados metereológicos"
   ]
  },
  {
   "cell_type": "markdown",
   "metadata": {},
   "source": [
    "Referências:    \n",
    "    https://www.kaggle.com/abnerneves/estacao-met-manaus    \n",
    "    http://bancodedados.cptec.inpe.br/"
   ]
  },
  {
   "cell_type": "markdown",
   "metadata": {},
   "source": [
    "#### Importação de Bibliotecas"
   ]
  },
  {
   "cell_type": "code",
   "execution_count": 90,
   "metadata": {},
   "outputs": [
    {
     "name": "stdout",
     "output_type": "stream",
     "text": [
      "Wall time: 0 ns\n"
     ]
    }
   ],
   "source": [
    "%%time\n",
    "import pandas as pd\n",
    "import numpy as np\n",
    "import seaborn as sns\n",
    "import matplotlib.pyplot as plt\n",
    "import os\n",
    "from os import listdir\n",
    "from os.path import isfile, join\n",
    "import datetime as dt"
   ]
  },
  {
   "cell_type": "code",
   "execution_count": 91,
   "metadata": {
    "pycharm": {
     "name": "#%%\n"
    }
   },
   "outputs": [
    {
     "data": {
      "text/plain": [
       "['INMET_N_AM_A101_MANAUS_01-01-2001_A_31-12-2001.CSV',\n",
       " 'INMET_N_AM_A101_MANAUS_01-01-2002_A_31-12-2002.CSV',\n",
       " 'INMET_N_AM_A101_MANAUS_01-01-2003_A_31-12-2003.CSV',\n",
       " 'INMET_N_AM_A101_MANAUS_01-01-2004_A_31-12-2004.CSV',\n",
       " 'INMET_N_AM_A101_MANAUS_01-01-2005_A_31-12-2005.CSV',\n",
       " 'INMET_N_AM_A101_MANAUS_01-01-2006_A_31-12-2006.CSV',\n",
       " 'INMET_N_AM_A101_MANAUS_01-01-2007_A_31-12-2007.CSV',\n",
       " 'INMET_N_AM_A101_MANAUS_01-01-2008_A_31-12-2008.CSV',\n",
       " 'INMET_N_AM_A101_MANAUS_01-01-2009_A_31-12-2009.CSV',\n",
       " 'INMET_N_AM_A101_MANAUS_01-01-2010_A_31-12-2010.CSV',\n",
       " 'INMET_N_AM_A101_MANAUS_01-01-2011_A_31-12-2011.CSV',\n",
       " 'INMET_N_AM_A101_MANAUS_01-01-2012_A_31-12-2012.CSV',\n",
       " 'INMET_N_AM_A101_MANAUS_01-01-2013_A_31-12-2013.CSV',\n",
       " 'INMET_N_AM_A101_MANAUS_01-01-2014_A_31-12-2014.CSV',\n",
       " 'INMET_N_AM_A101_MANAUS_01-01-2015_A_31-12-2015.CSV',\n",
       " 'INMET_N_AM_A101_MANAUS_01-01-2016_A_31-12-2016.CSV',\n",
       " 'INMET_N_AM_A101_MANAUS_01-01-2017_A_31-12-2017.CSV',\n",
       " 'INMET_N_AM_A101_MANAUS_01-01-2018_A_31-12-2018.CSV',\n",
       " 'INMET_N_AM_A101_MANAUS_01-01-2019_A_31-12-2019.CSV',\n",
       " 'INMET_N_AM_A101_MANAUS_01-01-2020_A_31-07-2020.CSV',\n",
       " 'INMET_N_AM_A101_MANAUS_09-05-2000_A_31-12-2000.CSV',\n",
       " 'previsao_tempo.ipynb',\n",
       " 'README.md']"
      ]
     },
     "execution_count": 91,
     "metadata": {},
     "output_type": "execute_result"
    }
   ],
   "source": [
    "#Lista arquivos disponíveis \n",
    "files = [f for f in listdir(os.getcwd()) if isfile(join(os.getcwd(), f))]\n",
    "files"
   ]
  },
  {
   "cell_type": "code",
   "execution_count": 92,
   "metadata": {},
   "outputs": [],
   "source": [
    "# Criando um Dataframe vazio para receber todos dos dados\n",
    "# Create a empty Dataframe to store all data\n",
    "df = pd.DataFrame()  "
   ]
  },
  {
   "cell_type": "code",
   "execution_count": 93,
   "metadata": {},
   "outputs": [
    {
     "name": "stdout",
     "output_type": "stream",
     "text": [
      "Wall time: 0 ns\n"
     ]
    }
   ],
   "source": [
    "%%time\n",
    "# Lista para nomes das colunas, necessário retirar caracteres\n",
    "# List of columns names, needed to extract all missing characters\n",
    "renomear_colunas = [\"DATA\",\"HORA\",\n",
    "                    \"PRECIP TOTAL\",\n",
    "                    \"P ATM EST\",\n",
    "                    \"P ATM MAX\",\n",
    "                    \"P ATM MIN\",\n",
    "                    \"RAD GLB\",\n",
    "                    \"TEMP AR\",\n",
    "                    \"TEMP ORV\",\n",
    "                    \"TEMP MAX\",\n",
    "                    \"TEMP MIN\",\n",
    "                    \"TEMP ORV MAX\",\n",
    "                    \"TEMP ORV MIN\",\n",
    "                    \"UMID MAX\",\n",
    "                    \"UMID MIN\",\n",
    "                    \"UMID\",\n",
    "                    \"VENTO DRC\",\n",
    "                    \"VENTO RAJ MAX\",\n",
    "                    \"VENTO VEL\",\n",
    "                    \"Unnamed\"]\n",
    "# O ultimo item da lista, serve para capturar os dados que serão importados  já que cada linha dos arquivos terminam com ;\n",
    "# The last item of the list is needed to catch all data, there is a wrong format in the source file"
   ]
  },
  {
   "cell_type": "code",
   "execution_count": 94,
   "metadata": {},
   "outputs": [
    {
     "name": "stdout",
     "output_type": "stream",
     "text": [
      "Wall time: 1.18 s\n"
     ]
    }
   ],
   "source": [
    "%%time\n",
    "# Percorre a lista de arquivos csv e fazendo o append no DataFrame\n",
    "# Run through the file list, storing all data in the Dataframe\n",
    "for i in files:\n",
    "    if(i[-3:])==\"CSV\":\n",
    "        df = df.append(pd.read_csv(i,sep=\";\", encoding=\"cp860\", skiprows=8, names = renomear_colunas, header = 0),ignore_index = True)"
   ]
  },
  {
   "cell_type": "code",
   "execution_count": 95,
   "metadata": {},
   "outputs": [],
   "source": [
    "# Excluindo coluna de lixo\n",
    "# Deleting the last column\n",
    "df.drop(\"Unnamed\", axis=1, inplace = True)"
   ]
  },
  {
   "cell_type": "code",
   "execution_count": 96,
   "metadata": {},
   "outputs": [
    {
     "data": {
      "text/plain": [
       "Index(['DATA', 'HORA', 'PRECIP TOTAL', 'P ATM EST', 'P ATM MAX', 'P ATM MIN',\n",
       "       'RAD GLB', 'TEMP AR', 'TEMP ORV', 'TEMP MAX', 'TEMP MIN',\n",
       "       'TEMP ORV MAX', 'TEMP ORV MIN', 'UMID MAX', 'UMID MIN', 'UMID',\n",
       "       'VENTO DRC', 'VENTO RAJ MAX', 'VENTO VEL'],\n",
       "      dtype='object')"
      ]
     },
     "execution_count": 96,
     "metadata": {},
     "output_type": "execute_result"
    }
   ],
   "source": [
    "df.columns"
   ]
  },
  {
   "cell_type": "code",
   "execution_count": 97,
   "metadata": {},
   "outputs": [
    {
     "name": "stdout",
     "output_type": "stream",
     "text": [
      "Wall time: 2.59 s\n"
     ]
    }
   ],
   "source": [
    "%%time\n",
    "# Altera , para . para converter de str para float\n",
    "# Replace , to . to convert from str to float\n",
    "df.replace(\",\",\".\", regex = True, inplace = True)"
   ]
  },
  {
   "cell_type": "code",
   "execution_count": 98,
   "metadata": {},
   "outputs": [
    {
     "name": "stdout",
     "output_type": "stream",
     "text": [
      "Wall time: 170 ms\n"
     ]
    }
   ],
   "source": [
    "%%time\n",
    "# Altera / para - para converter de str para datetime\n",
    "# Replace / to - to convert from str to datetime\n",
    "df[\"DATA\"].replace(\"/\",\"-\", regex = True, inplace = True)"
   ]
  },
  {
   "cell_type": "code",
   "execution_count": 99,
   "metadata": {},
   "outputs": [
    {
     "name": "stdout",
     "output_type": "stream",
     "text": [
      "Wall time: 149 ms\n"
     ]
    }
   ],
   "source": [
    "%%time\n",
    "# Uniformizando as horas\n",
    "# Correct the hour format\n",
    "df[\"HORA\"].replace(\" UTC\",\"\", regex = True, inplace = True)"
   ]
  },
  {
   "cell_type": "code",
   "execution_count": 100,
   "metadata": {},
   "outputs": [],
   "source": [
    "# Criando coluna com Data e Hora para criação do tipo Datetime\n",
    "df[\"DATA_HORA\"] = df[\"DATA\"] +\" \" + df[\"HORA\"]"
   ]
  },
  {
   "cell_type": "code",
   "execution_count": 101,
   "metadata": {},
   "outputs": [
    {
     "name": "stdout",
     "output_type": "stream",
     "text": [
      "Wall time: 101 ms\n"
     ]
    }
   ],
   "source": [
    "%%time\n",
    "# convertando para datetime\n",
    "# Convert to Datetime\n",
    "df[\"DATA_HORA\"] = pd.to_datetime(df[\"DATA_HORA\"], errors = \"ignore\", format=\"%Y-%m-%d %H:%M\")"
   ]
  },
  {
   "cell_type": "code",
   "execution_count": 102,
   "metadata": {},
   "outputs": [],
   "source": [
    "# Ordenando\n",
    "# Sorting\n",
    "df.sort_values(by=[\"DATA_HORA\"], inplace = True)"
   ]
  },
  {
   "cell_type": "code",
   "execution_count": 103,
   "metadata": {},
   "outputs": [
    {
     "data": {
      "text/plain": [
       "171648   2000-05-09 00:00:00\n",
       "171649   2000-05-09 01:00:00\n",
       "171650   2000-05-09 02:00:00\n",
       "171651   2000-05-09 03:00:00\n",
       "171652   2000-05-09 04:00:00\n",
       "                 ...        \n",
       "171643   2020-07-31 19:00:00\n",
       "171644   2020-07-31 20:00:00\n",
       "171645   2020-07-31 21:00:00\n",
       "171646   2020-07-31 22:00:00\n",
       "171647   2020-07-31 23:00:00\n",
       "Name: DATA_HORA, Length: 177336, dtype: datetime64[ns]"
      ]
     },
     "execution_count": 103,
     "metadata": {},
     "output_type": "execute_result"
    }
   ],
   "source": [
    "# Verificando a ordenação das datas\n",
    "# Checking \n",
    "\n",
    "df['DATA_HORA']"
   ]
  },
  {
   "cell_type": "code",
   "execution_count": 104,
   "metadata": {},
   "outputs": [
    {
     "name": "stdout",
     "output_type": "stream",
     "text": [
      "Wall time: 179 ms\n"
     ]
    }
   ],
   "source": [
    "%%time\n",
    "# Altera os dados -9999 para NaN para uma melhor estratégia de substituição dos dados faltantes\n",
    "# Replace -9999 to Nan\n",
    "df.replace(\"-9999.000000\", np.NaN, inplace=True)\n",
    "df.replace(\"-9999\", np.NaN, inplace=True)\n",
    "df.replace(-9999, np.NaN, inplace=True)"
   ]
  },
  {
   "cell_type": "code",
   "execution_count": 105,
   "metadata": {},
   "outputs": [],
   "source": [
    "# Reset do index\n",
    "df.reset_index(drop = True, inplace = True)\n",
    "# Quando o reset_index é usado, o indice antigo é adiconado ao Dataframe como uma coluna, portanto precisa ser excluido utilizando o parametro drop = True"
   ]
  },
  {
   "cell_type": "code",
   "execution_count": 106,
   "metadata": {},
   "outputs": [
    {
     "data": {
      "text/html": [
       "<div>\n",
       "<style scoped>\n",
       "    .dataframe tbody tr th:only-of-type {\n",
       "        vertical-align: middle;\n",
       "    }\n",
       "\n",
       "    .dataframe tbody tr th {\n",
       "        vertical-align: top;\n",
       "    }\n",
       "\n",
       "    .dataframe thead th {\n",
       "        text-align: right;\n",
       "    }\n",
       "</style>\n",
       "<table border=\"1\" class=\"dataframe\">\n",
       "  <thead>\n",
       "    <tr style=\"text-align: right;\">\n",
       "      <th></th>\n",
       "      <th>DATA</th>\n",
       "      <th>HORA</th>\n",
       "      <th>PRECIP TOTAL</th>\n",
       "      <th>P ATM EST</th>\n",
       "      <th>P ATM MAX</th>\n",
       "      <th>P ATM MIN</th>\n",
       "      <th>RAD GLB</th>\n",
       "      <th>TEMP AR</th>\n",
       "      <th>TEMP ORV</th>\n",
       "      <th>TEMP MAX</th>\n",
       "      <th>TEMP MIN</th>\n",
       "      <th>TEMP ORV MAX</th>\n",
       "      <th>TEMP ORV MIN</th>\n",
       "      <th>UMID MAX</th>\n",
       "      <th>UMID MIN</th>\n",
       "      <th>UMID</th>\n",
       "      <th>VENTO DRC</th>\n",
       "      <th>VENTO RAJ MAX</th>\n",
       "      <th>VENTO VEL</th>\n",
       "      <th>DATA_HORA</th>\n",
       "    </tr>\n",
       "  </thead>\n",
       "  <tbody>\n",
       "    <tr>\n",
       "      <th>0</th>\n",
       "      <td>2000-05-09</td>\n",
       "      <td>00:00</td>\n",
       "      <td>NaN</td>\n",
       "      <td>NaN</td>\n",
       "      <td>NaN</td>\n",
       "      <td>NaN</td>\n",
       "      <td>NaN</td>\n",
       "      <td>NaN</td>\n",
       "      <td>NaN</td>\n",
       "      <td>NaN</td>\n",
       "      <td>NaN</td>\n",
       "      <td>NaN</td>\n",
       "      <td>NaN</td>\n",
       "      <td>NaN</td>\n",
       "      <td>NaN</td>\n",
       "      <td>NaN</td>\n",
       "      <td>NaN</td>\n",
       "      <td>NaN</td>\n",
       "      <td>NaN</td>\n",
       "      <td>2000-05-09 00:00:00</td>\n",
       "    </tr>\n",
       "    <tr>\n",
       "      <th>1</th>\n",
       "      <td>2000-05-09</td>\n",
       "      <td>01:00</td>\n",
       "      <td>NaN</td>\n",
       "      <td>NaN</td>\n",
       "      <td>NaN</td>\n",
       "      <td>NaN</td>\n",
       "      <td>NaN</td>\n",
       "      <td>NaN</td>\n",
       "      <td>NaN</td>\n",
       "      <td>NaN</td>\n",
       "      <td>NaN</td>\n",
       "      <td>NaN</td>\n",
       "      <td>NaN</td>\n",
       "      <td>NaN</td>\n",
       "      <td>NaN</td>\n",
       "      <td>NaN</td>\n",
       "      <td>NaN</td>\n",
       "      <td>NaN</td>\n",
       "      <td>NaN</td>\n",
       "      <td>2000-05-09 01:00:00</td>\n",
       "    </tr>\n",
       "    <tr>\n",
       "      <th>2</th>\n",
       "      <td>2000-05-09</td>\n",
       "      <td>02:00</td>\n",
       "      <td>NaN</td>\n",
       "      <td>NaN</td>\n",
       "      <td>NaN</td>\n",
       "      <td>NaN</td>\n",
       "      <td>NaN</td>\n",
       "      <td>NaN</td>\n",
       "      <td>NaN</td>\n",
       "      <td>NaN</td>\n",
       "      <td>NaN</td>\n",
       "      <td>NaN</td>\n",
       "      <td>NaN</td>\n",
       "      <td>NaN</td>\n",
       "      <td>NaN</td>\n",
       "      <td>NaN</td>\n",
       "      <td>NaN</td>\n",
       "      <td>NaN</td>\n",
       "      <td>NaN</td>\n",
       "      <td>2000-05-09 02:00:00</td>\n",
       "    </tr>\n",
       "    <tr>\n",
       "      <th>3</th>\n",
       "      <td>2000-05-09</td>\n",
       "      <td>03:00</td>\n",
       "      <td>NaN</td>\n",
       "      <td>NaN</td>\n",
       "      <td>NaN</td>\n",
       "      <td>NaN</td>\n",
       "      <td>NaN</td>\n",
       "      <td>NaN</td>\n",
       "      <td>NaN</td>\n",
       "      <td>NaN</td>\n",
       "      <td>NaN</td>\n",
       "      <td>NaN</td>\n",
       "      <td>NaN</td>\n",
       "      <td>NaN</td>\n",
       "      <td>NaN</td>\n",
       "      <td>NaN</td>\n",
       "      <td>NaN</td>\n",
       "      <td>NaN</td>\n",
       "      <td>NaN</td>\n",
       "      <td>2000-05-09 03:00:00</td>\n",
       "    </tr>\n",
       "    <tr>\n",
       "      <th>4</th>\n",
       "      <td>2000-05-09</td>\n",
       "      <td>04:00</td>\n",
       "      <td>NaN</td>\n",
       "      <td>NaN</td>\n",
       "      <td>NaN</td>\n",
       "      <td>NaN</td>\n",
       "      <td>NaN</td>\n",
       "      <td>NaN</td>\n",
       "      <td>NaN</td>\n",
       "      <td>NaN</td>\n",
       "      <td>NaN</td>\n",
       "      <td>NaN</td>\n",
       "      <td>NaN</td>\n",
       "      <td>NaN</td>\n",
       "      <td>NaN</td>\n",
       "      <td>NaN</td>\n",
       "      <td>NaN</td>\n",
       "      <td>NaN</td>\n",
       "      <td>NaN</td>\n",
       "      <td>2000-05-09 04:00:00</td>\n",
       "    </tr>\n",
       "  </tbody>\n",
       "</table>\n",
       "</div>"
      ],
      "text/plain": [
       "         DATA   HORA PRECIP TOTAL P ATM EST P ATM MAX P ATM MIN RAD GLB  \\\n",
       "0  2000-05-09  00:00          NaN       NaN       NaN       NaN     NaN   \n",
       "1  2000-05-09  01:00          NaN       NaN       NaN       NaN     NaN   \n",
       "2  2000-05-09  02:00          NaN       NaN       NaN       NaN     NaN   \n",
       "3  2000-05-09  03:00          NaN       NaN       NaN       NaN     NaN   \n",
       "4  2000-05-09  04:00          NaN       NaN       NaN       NaN     NaN   \n",
       "\n",
       "  TEMP AR TEMP ORV TEMP MAX TEMP MIN TEMP ORV MAX TEMP ORV MIN  UMID MAX  \\\n",
       "0     NaN      NaN      NaN      NaN          NaN          NaN       NaN   \n",
       "1     NaN      NaN      NaN      NaN          NaN          NaN       NaN   \n",
       "2     NaN      NaN      NaN      NaN          NaN          NaN       NaN   \n",
       "3     NaN      NaN      NaN      NaN          NaN          NaN       NaN   \n",
       "4     NaN      NaN      NaN      NaN          NaN          NaN       NaN   \n",
       "\n",
       "   UMID MIN  UMID  VENTO DRC VENTO RAJ MAX VENTO VEL           DATA_HORA  \n",
       "0       NaN   NaN        NaN           NaN       NaN 2000-05-09 00:00:00  \n",
       "1       NaN   NaN        NaN           NaN       NaN 2000-05-09 01:00:00  \n",
       "2       NaN   NaN        NaN           NaN       NaN 2000-05-09 02:00:00  \n",
       "3       NaN   NaN        NaN           NaN       NaN 2000-05-09 03:00:00  \n",
       "4       NaN   NaN        NaN           NaN       NaN 2000-05-09 04:00:00  "
      ]
     },
     "execution_count": 106,
     "metadata": {},
     "output_type": "execute_result"
    }
   ],
   "source": [
    "df.head()"
   ]
  },
  {
   "cell_type": "code",
   "execution_count": 107,
   "metadata": {},
   "outputs": [
    {
     "name": "stdout",
     "output_type": "stream",
     "text": [
      "Wall time: 485 ms\n"
     ]
    }
   ],
   "source": [
    "%%time\n",
    "\n",
    "df[\"PRECIP TOTAL\"] = pd.to_numeric(df[\"PRECIP TOTAL\"])\n",
    "\n",
    "df[\"P ATM EST\"] = pd.to_numeric(df[\"P ATM EST\"])\n",
    "\n",
    "df[\"P ATM MAX\"] = pd.to_numeric(df[\"P ATM MAX\"])\n",
    "\n",
    "df[\"P ATM MIN\"] = pd.to_numeric(df[\"P ATM MIN\"])\n",
    "\n",
    "df[\"RAD GLB\"] = pd.to_numeric(df[\"RAD GLB\"])\n",
    "\n",
    "df[\"TEMP AR\"] = pd.to_numeric(df[\"TEMP AR\"])\n",
    "\n",
    "df[\"TEMP ORV\"] = pd.to_numeric(df[\"TEMP ORV\"])\n",
    "\n",
    "df[\"TEMP MAX\"] = pd.to_numeric(df[\"TEMP MAX\"])\n",
    "\n",
    "df[\"TEMP MIN\"] = pd.to_numeric(df[\"TEMP MIN\"])\n",
    "\n",
    "df[\"TEMP ORV MAX\"] = pd.to_numeric(df[\"TEMP ORV MAX\"])\n",
    "\n",
    "df[\"TEMP ORV MIN\"] = pd.to_numeric(df[\"TEMP ORV MIN\"])\n",
    "\n",
    "df[\"VENTO RAJ MAX\"] = pd.to_numeric(df[\"VENTO RAJ MAX\"])\n",
    "\n",
    "df[\"VENTO VEL\"] = pd.to_numeric(df[\"VENTO VEL\"])"
   ]
  },
  {
   "cell_type": "code",
   "execution_count": 108,
   "metadata": {},
   "outputs": [
    {
     "name": "stdout",
     "output_type": "stream",
     "text": [
      "<class 'pandas.core.frame.DataFrame'>\n",
      "RangeIndex: 177336 entries, 0 to 177335\n",
      "Data columns (total 20 columns):\n",
      " #   Column         Non-Null Count   Dtype         \n",
      "---  ------         --------------   -----         \n",
      " 0   DATA           177336 non-null  object        \n",
      " 1   HORA           177336 non-null  object        \n",
      " 2   PRECIP TOTAL   143744 non-null  float64       \n",
      " 3   P ATM EST      143104 non-null  float64       \n",
      " 4   P ATM MAX      142393 non-null  float64       \n",
      " 5   P ATM MIN      142393 non-null  float64       \n",
      " 6   RAD GLB        83423 non-null   float64       \n",
      " 7   TEMP AR        143830 non-null  float64       \n",
      " 8   TEMP ORV       143561 non-null  float64       \n",
      " 9   TEMP MAX       143185 non-null  float64       \n",
      " 10  TEMP MIN       143184 non-null  float64       \n",
      " 11  TEMP ORV MAX   142903 non-null  float64       \n",
      " 12  TEMP ORV MIN   142901 non-null  float64       \n",
      " 13  UMID MAX       142912 non-null  float64       \n",
      " 14  UMID MIN       142911 non-null  float64       \n",
      " 15  UMID           143563 non-null  float64       \n",
      " 16  VENTO DRC      137060 non-null  float64       \n",
      " 17  VENTO RAJ MAX  136726 non-null  float64       \n",
      " 18  VENTO VEL      137114 non-null  float64       \n",
      " 19  DATA_HORA      177336 non-null  datetime64[ns]\n",
      "dtypes: datetime64[ns](1), float64(17), object(2)\n",
      "memory usage: 27.1+ MB\n"
     ]
    }
   ],
   "source": [
    "df.info()"
   ]
  },
  {
   "cell_type": "code",
   "execution_count": 109,
   "metadata": {},
   "outputs": [],
   "source": [
    "df.drop(['DATA', 'HORA'], inplace = True, axis = 1)"
   ]
  },
  {
   "cell_type": "code",
   "execution_count": 110,
   "metadata": {},
   "outputs": [],
   "source": [
    "df['ano'] = df['DATA_HORA'].dt.year\n",
    "df['mes'] = df['DATA_HORA'].dt.month\n",
    "df['dia'] = df['DATA_HORA'].dt.day\n",
    "df.drop(\"DATA_HORA\", inplace = True, axis =1)"
   ]
  },
  {
   "cell_type": "code",
   "execution_count": 111,
   "metadata": {},
   "outputs": [
    {
     "data": {
      "text/html": [
       "<div>\n",
       "<style scoped>\n",
       "    .dataframe tbody tr th:only-of-type {\n",
       "        vertical-align: middle;\n",
       "    }\n",
       "\n",
       "    .dataframe tbody tr th {\n",
       "        vertical-align: top;\n",
       "    }\n",
       "\n",
       "    .dataframe thead th {\n",
       "        text-align: right;\n",
       "    }\n",
       "</style>\n",
       "<table border=\"1\" class=\"dataframe\">\n",
       "  <thead>\n",
       "    <tr style=\"text-align: right;\">\n",
       "      <th></th>\n",
       "      <th>PRECIP TOTAL</th>\n",
       "      <th>P ATM EST</th>\n",
       "      <th>P ATM MAX</th>\n",
       "      <th>P ATM MIN</th>\n",
       "      <th>RAD GLB</th>\n",
       "      <th>TEMP AR</th>\n",
       "      <th>TEMP ORV</th>\n",
       "      <th>TEMP MAX</th>\n",
       "      <th>TEMP MIN</th>\n",
       "      <th>TEMP ORV MAX</th>\n",
       "      <th>TEMP ORV MIN</th>\n",
       "      <th>UMID MAX</th>\n",
       "      <th>UMID MIN</th>\n",
       "      <th>UMID</th>\n",
       "      <th>VENTO DRC</th>\n",
       "      <th>VENTO RAJ MAX</th>\n",
       "      <th>VENTO VEL</th>\n",
       "      <th>ano</th>\n",
       "      <th>mes</th>\n",
       "      <th>dia</th>\n",
       "    </tr>\n",
       "  </thead>\n",
       "  <tbody>\n",
       "    <tr>\n",
       "      <th>0</th>\n",
       "      <td>NaN</td>\n",
       "      <td>NaN</td>\n",
       "      <td>NaN</td>\n",
       "      <td>NaN</td>\n",
       "      <td>NaN</td>\n",
       "      <td>NaN</td>\n",
       "      <td>NaN</td>\n",
       "      <td>NaN</td>\n",
       "      <td>NaN</td>\n",
       "      <td>NaN</td>\n",
       "      <td>NaN</td>\n",
       "      <td>NaN</td>\n",
       "      <td>NaN</td>\n",
       "      <td>NaN</td>\n",
       "      <td>NaN</td>\n",
       "      <td>NaN</td>\n",
       "      <td>NaN</td>\n",
       "      <td>2000</td>\n",
       "      <td>5</td>\n",
       "      <td>9</td>\n",
       "    </tr>\n",
       "    <tr>\n",
       "      <th>1</th>\n",
       "      <td>NaN</td>\n",
       "      <td>NaN</td>\n",
       "      <td>NaN</td>\n",
       "      <td>NaN</td>\n",
       "      <td>NaN</td>\n",
       "      <td>NaN</td>\n",
       "      <td>NaN</td>\n",
       "      <td>NaN</td>\n",
       "      <td>NaN</td>\n",
       "      <td>NaN</td>\n",
       "      <td>NaN</td>\n",
       "      <td>NaN</td>\n",
       "      <td>NaN</td>\n",
       "      <td>NaN</td>\n",
       "      <td>NaN</td>\n",
       "      <td>NaN</td>\n",
       "      <td>NaN</td>\n",
       "      <td>2000</td>\n",
       "      <td>5</td>\n",
       "      <td>9</td>\n",
       "    </tr>\n",
       "    <tr>\n",
       "      <th>2</th>\n",
       "      <td>NaN</td>\n",
       "      <td>NaN</td>\n",
       "      <td>NaN</td>\n",
       "      <td>NaN</td>\n",
       "      <td>NaN</td>\n",
       "      <td>NaN</td>\n",
       "      <td>NaN</td>\n",
       "      <td>NaN</td>\n",
       "      <td>NaN</td>\n",
       "      <td>NaN</td>\n",
       "      <td>NaN</td>\n",
       "      <td>NaN</td>\n",
       "      <td>NaN</td>\n",
       "      <td>NaN</td>\n",
       "      <td>NaN</td>\n",
       "      <td>NaN</td>\n",
       "      <td>NaN</td>\n",
       "      <td>2000</td>\n",
       "      <td>5</td>\n",
       "      <td>9</td>\n",
       "    </tr>\n",
       "    <tr>\n",
       "      <th>3</th>\n",
       "      <td>NaN</td>\n",
       "      <td>NaN</td>\n",
       "      <td>NaN</td>\n",
       "      <td>NaN</td>\n",
       "      <td>NaN</td>\n",
       "      <td>NaN</td>\n",
       "      <td>NaN</td>\n",
       "      <td>NaN</td>\n",
       "      <td>NaN</td>\n",
       "      <td>NaN</td>\n",
       "      <td>NaN</td>\n",
       "      <td>NaN</td>\n",
       "      <td>NaN</td>\n",
       "      <td>NaN</td>\n",
       "      <td>NaN</td>\n",
       "      <td>NaN</td>\n",
       "      <td>NaN</td>\n",
       "      <td>2000</td>\n",
       "      <td>5</td>\n",
       "      <td>9</td>\n",
       "    </tr>\n",
       "    <tr>\n",
       "      <th>4</th>\n",
       "      <td>NaN</td>\n",
       "      <td>NaN</td>\n",
       "      <td>NaN</td>\n",
       "      <td>NaN</td>\n",
       "      <td>NaN</td>\n",
       "      <td>NaN</td>\n",
       "      <td>NaN</td>\n",
       "      <td>NaN</td>\n",
       "      <td>NaN</td>\n",
       "      <td>NaN</td>\n",
       "      <td>NaN</td>\n",
       "      <td>NaN</td>\n",
       "      <td>NaN</td>\n",
       "      <td>NaN</td>\n",
       "      <td>NaN</td>\n",
       "      <td>NaN</td>\n",
       "      <td>NaN</td>\n",
       "      <td>2000</td>\n",
       "      <td>5</td>\n",
       "      <td>9</td>\n",
       "    </tr>\n",
       "  </tbody>\n",
       "</table>\n",
       "</div>"
      ],
      "text/plain": [
       "   PRECIP TOTAL  P ATM EST  P ATM MAX  P ATM MIN  RAD GLB  TEMP AR  TEMP ORV  \\\n",
       "0           NaN        NaN        NaN        NaN      NaN      NaN       NaN   \n",
       "1           NaN        NaN        NaN        NaN      NaN      NaN       NaN   \n",
       "2           NaN        NaN        NaN        NaN      NaN      NaN       NaN   \n",
       "3           NaN        NaN        NaN        NaN      NaN      NaN       NaN   \n",
       "4           NaN        NaN        NaN        NaN      NaN      NaN       NaN   \n",
       "\n",
       "   TEMP MAX  TEMP MIN  TEMP ORV MAX  TEMP ORV MIN  UMID MAX  UMID MIN  UMID  \\\n",
       "0       NaN       NaN           NaN           NaN       NaN       NaN   NaN   \n",
       "1       NaN       NaN           NaN           NaN       NaN       NaN   NaN   \n",
       "2       NaN       NaN           NaN           NaN       NaN       NaN   NaN   \n",
       "3       NaN       NaN           NaN           NaN       NaN       NaN   NaN   \n",
       "4       NaN       NaN           NaN           NaN       NaN       NaN   NaN   \n",
       "\n",
       "   VENTO DRC  VENTO RAJ MAX  VENTO VEL   ano  mes  dia  \n",
       "0        NaN            NaN        NaN  2000    5    9  \n",
       "1        NaN            NaN        NaN  2000    5    9  \n",
       "2        NaN            NaN        NaN  2000    5    9  \n",
       "3        NaN            NaN        NaN  2000    5    9  \n",
       "4        NaN            NaN        NaN  2000    5    9  "
      ]
     },
     "execution_count": 111,
     "metadata": {},
     "output_type": "execute_result"
    }
   ],
   "source": [
    "df.head()"
   ]
  },
  {
   "cell_type": "code",
   "execution_count": 112,
   "metadata": {},
   "outputs": [],
   "source": [
    "df.dropna(inplace = True)"
   ]
  },
  {
   "cell_type": "code",
   "execution_count": 113,
   "metadata": {},
   "outputs": [],
   "source": [
    "df.reset_index(drop = True, inplace = True)"
   ]
  },
  {
   "cell_type": "code",
   "execution_count": 114,
   "metadata": {},
   "outputs": [
    {
     "data": {
      "text/html": [
       "<div>\n",
       "<style scoped>\n",
       "    .dataframe tbody tr th:only-of-type {\n",
       "        vertical-align: middle;\n",
       "    }\n",
       "\n",
       "    .dataframe tbody tr th {\n",
       "        vertical-align: top;\n",
       "    }\n",
       "\n",
       "    .dataframe thead th {\n",
       "        text-align: right;\n",
       "    }\n",
       "</style>\n",
       "<table border=\"1\" class=\"dataframe\">\n",
       "  <thead>\n",
       "    <tr style=\"text-align: right;\">\n",
       "      <th></th>\n",
       "      <th>PRECIP TOTAL</th>\n",
       "      <th>P ATM EST</th>\n",
       "      <th>P ATM MAX</th>\n",
       "      <th>P ATM MIN</th>\n",
       "      <th>RAD GLB</th>\n",
       "      <th>TEMP AR</th>\n",
       "      <th>TEMP ORV</th>\n",
       "      <th>TEMP MAX</th>\n",
       "      <th>TEMP MIN</th>\n",
       "      <th>TEMP ORV MAX</th>\n",
       "      <th>TEMP ORV MIN</th>\n",
       "      <th>UMID MAX</th>\n",
       "      <th>UMID MIN</th>\n",
       "      <th>UMID</th>\n",
       "      <th>VENTO DRC</th>\n",
       "      <th>VENTO RAJ MAX</th>\n",
       "      <th>VENTO VEL</th>\n",
       "      <th>ano</th>\n",
       "      <th>mes</th>\n",
       "      <th>dia</th>\n",
       "    </tr>\n",
       "  </thead>\n",
       "  <tbody>\n",
       "    <tr>\n",
       "      <th>0</th>\n",
       "      <td>0.0</td>\n",
       "      <td>1002.6</td>\n",
       "      <td>1002.8</td>\n",
       "      <td>1002.6</td>\n",
       "      <td>386.0</td>\n",
       "      <td>29.4</td>\n",
       "      <td>23.1</td>\n",
       "      <td>29.8</td>\n",
       "      <td>29.4</td>\n",
       "      <td>23.3</td>\n",
       "      <td>22.6</td>\n",
       "      <td>69.0</td>\n",
       "      <td>65.0</td>\n",
       "      <td>69.0</td>\n",
       "      <td>96.0</td>\n",
       "      <td>2.9</td>\n",
       "      <td>0.8</td>\n",
       "      <td>2000</td>\n",
       "      <td>5</td>\n",
       "      <td>9</td>\n",
       "    </tr>\n",
       "    <tr>\n",
       "      <th>1</th>\n",
       "      <td>0.0</td>\n",
       "      <td>1002.8</td>\n",
       "      <td>1002.8</td>\n",
       "      <td>1002.5</td>\n",
       "      <td>184.0</td>\n",
       "      <td>26.9</td>\n",
       "      <td>24.1</td>\n",
       "      <td>29.5</td>\n",
       "      <td>26.9</td>\n",
       "      <td>24.3</td>\n",
       "      <td>22.8</td>\n",
       "      <td>85.0</td>\n",
       "      <td>68.0</td>\n",
       "      <td>84.0</td>\n",
       "      <td>184.0</td>\n",
       "      <td>1.9</td>\n",
       "      <td>0.1</td>\n",
       "      <td>2000</td>\n",
       "      <td>5</td>\n",
       "      <td>9</td>\n",
       "    </tr>\n",
       "    <tr>\n",
       "      <th>2</th>\n",
       "      <td>0.0</td>\n",
       "      <td>1006.8</td>\n",
       "      <td>1006.8</td>\n",
       "      <td>1006.3</td>\n",
       "      <td>207.0</td>\n",
       "      <td>25.2</td>\n",
       "      <td>24.5</td>\n",
       "      <td>25.2</td>\n",
       "      <td>23.9</td>\n",
       "      <td>24.5</td>\n",
       "      <td>23.5</td>\n",
       "      <td>98.0</td>\n",
       "      <td>96.0</td>\n",
       "      <td>96.0</td>\n",
       "      <td>270.0</td>\n",
       "      <td>1.0</td>\n",
       "      <td>0.3</td>\n",
       "      <td>2000</td>\n",
       "      <td>5</td>\n",
       "      <td>10</td>\n",
       "    </tr>\n",
       "    <tr>\n",
       "      <th>3</th>\n",
       "      <td>0.0</td>\n",
       "      <td>1007.7</td>\n",
       "      <td>1007.7</td>\n",
       "      <td>1006.8</td>\n",
       "      <td>745.0</td>\n",
       "      <td>27.1</td>\n",
       "      <td>25.2</td>\n",
       "      <td>27.4</td>\n",
       "      <td>25.2</td>\n",
       "      <td>25.2</td>\n",
       "      <td>24.5</td>\n",
       "      <td>96.0</td>\n",
       "      <td>85.0</td>\n",
       "      <td>89.0</td>\n",
       "      <td>204.0</td>\n",
       "      <td>1.1</td>\n",
       "      <td>0.4</td>\n",
       "      <td>2000</td>\n",
       "      <td>5</td>\n",
       "      <td>10</td>\n",
       "    </tr>\n",
       "    <tr>\n",
       "      <th>4</th>\n",
       "      <td>0.0</td>\n",
       "      <td>1008.3</td>\n",
       "      <td>1008.3</td>\n",
       "      <td>1007.8</td>\n",
       "      <td>916.0</td>\n",
       "      <td>28.1</td>\n",
       "      <td>23.8</td>\n",
       "      <td>28.1</td>\n",
       "      <td>26.9</td>\n",
       "      <td>25.6</td>\n",
       "      <td>23.8</td>\n",
       "      <td>91.0</td>\n",
       "      <td>78.0</td>\n",
       "      <td>78.0</td>\n",
       "      <td>64.0</td>\n",
       "      <td>1.5</td>\n",
       "      <td>0.7</td>\n",
       "      <td>2000</td>\n",
       "      <td>5</td>\n",
       "      <td>10</td>\n",
       "    </tr>\n",
       "  </tbody>\n",
       "</table>\n",
       "</div>"
      ],
      "text/plain": [
       "   PRECIP TOTAL  P ATM EST  P ATM MAX  P ATM MIN  RAD GLB  TEMP AR  TEMP ORV  \\\n",
       "0           0.0     1002.6     1002.8     1002.6    386.0     29.4      23.1   \n",
       "1           0.0     1002.8     1002.8     1002.5    184.0     26.9      24.1   \n",
       "2           0.0     1006.8     1006.8     1006.3    207.0     25.2      24.5   \n",
       "3           0.0     1007.7     1007.7     1006.8    745.0     27.1      25.2   \n",
       "4           0.0     1008.3     1008.3     1007.8    916.0     28.1      23.8   \n",
       "\n",
       "   TEMP MAX  TEMP MIN  TEMP ORV MAX  TEMP ORV MIN  UMID MAX  UMID MIN  UMID  \\\n",
       "0      29.8      29.4          23.3          22.6      69.0      65.0  69.0   \n",
       "1      29.5      26.9          24.3          22.8      85.0      68.0  84.0   \n",
       "2      25.2      23.9          24.5          23.5      98.0      96.0  96.0   \n",
       "3      27.4      25.2          25.2          24.5      96.0      85.0  89.0   \n",
       "4      28.1      26.9          25.6          23.8      91.0      78.0  78.0   \n",
       "\n",
       "   VENTO DRC  VENTO RAJ MAX  VENTO VEL   ano  mes  dia  \n",
       "0       96.0            2.9        0.8  2000    5    9  \n",
       "1      184.0            1.9        0.1  2000    5    9  \n",
       "2      270.0            1.0        0.3  2000    5   10  \n",
       "3      204.0            1.1        0.4  2000    5   10  \n",
       "4       64.0            1.5        0.7  2000    5   10  "
      ]
     },
     "execution_count": 114,
     "metadata": {},
     "output_type": "execute_result"
    }
   ],
   "source": [
    "df.head()"
   ]
  },
  {
   "cell_type": "code",
   "execution_count": 115,
   "metadata": {},
   "outputs": [],
   "source": [
    "df_diario = df.groupby(['ano', 'mes', 'dia']).agg({\"PRECIP TOTAL\":np.sum,\\\n",
    "                                                  \"P ATM EST\":np.mean,\\\n",
    "                                                  \"P ATM MAX\":np.max,\\\n",
    "                                                  \"P ATM MIN\":np.min,\\\n",
    "                                                  \"RAD GLB\":np.mean,\\\n",
    "                                                  \"TEMP AR\":np.mean,\\\n",
    "                                                  \"TEMP ORV\":np.mean,\\\n",
    "                                                  \"TEMP MAX\":np.max,\\\n",
    "                                                  \"TEMP MIN\":np.min})"
   ]
  },
  {
   "cell_type": "code",
   "execution_count": 116,
   "metadata": {},
   "outputs": [],
   "source": [
    "df_diario = df_diario.sort_index().reset_index().copy()"
   ]
  },
  {
   "cell_type": "code",
   "execution_count": 117,
   "metadata": {},
   "outputs": [
    {
     "data": {
      "text/html": [
       "<div>\n",
       "<style scoped>\n",
       "    .dataframe tbody tr th:only-of-type {\n",
       "        vertical-align: middle;\n",
       "    }\n",
       "\n",
       "    .dataframe tbody tr th {\n",
       "        vertical-align: top;\n",
       "    }\n",
       "\n",
       "    .dataframe thead th {\n",
       "        text-align: right;\n",
       "    }\n",
       "</style>\n",
       "<table border=\"1\" class=\"dataframe\">\n",
       "  <thead>\n",
       "    <tr style=\"text-align: right;\">\n",
       "      <th></th>\n",
       "      <th>ano</th>\n",
       "      <th>mes</th>\n",
       "      <th>dia</th>\n",
       "      <th>PRECIP TOTAL</th>\n",
       "      <th>P ATM EST</th>\n",
       "      <th>P ATM MAX</th>\n",
       "      <th>P ATM MIN</th>\n",
       "      <th>RAD GLB</th>\n",
       "      <th>TEMP AR</th>\n",
       "      <th>TEMP ORV</th>\n",
       "      <th>TEMP MAX</th>\n",
       "      <th>TEMP MIN</th>\n",
       "    </tr>\n",
       "  </thead>\n",
       "  <tbody>\n",
       "    <tr>\n",
       "      <th>0</th>\n",
       "      <td>2000</td>\n",
       "      <td>5</td>\n",
       "      <td>9</td>\n",
       "      <td>0.0</td>\n",
       "      <td>1002.700000</td>\n",
       "      <td>1002.8</td>\n",
       "      <td>1002.5</td>\n",
       "      <td>285.000000</td>\n",
       "      <td>28.150000</td>\n",
       "      <td>23.600000</td>\n",
       "      <td>29.8</td>\n",
       "      <td>26.9</td>\n",
       "    </tr>\n",
       "    <tr>\n",
       "      <th>1</th>\n",
       "      <td>2000</td>\n",
       "      <td>5</td>\n",
       "      <td>10</td>\n",
       "      <td>0.0</td>\n",
       "      <td>1005.491667</td>\n",
       "      <td>1008.3</td>\n",
       "      <td>1002.4</td>\n",
       "      <td>1597.666667</td>\n",
       "      <td>29.075000</td>\n",
       "      <td>23.675000</td>\n",
       "      <td>32.2</td>\n",
       "      <td>23.9</td>\n",
       "    </tr>\n",
       "    <tr>\n",
       "      <th>2</th>\n",
       "      <td>2000</td>\n",
       "      <td>5</td>\n",
       "      <td>11</td>\n",
       "      <td>0.0</td>\n",
       "      <td>1004.683333</td>\n",
       "      <td>1007.6</td>\n",
       "      <td>1001.7</td>\n",
       "      <td>1705.583333</td>\n",
       "      <td>29.175000</td>\n",
       "      <td>23.866667</td>\n",
       "      <td>31.3</td>\n",
       "      <td>24.0</td>\n",
       "    </tr>\n",
       "    <tr>\n",
       "      <th>3</th>\n",
       "      <td>2000</td>\n",
       "      <td>5</td>\n",
       "      <td>12</td>\n",
       "      <td>4.2</td>\n",
       "      <td>1004.191667</td>\n",
       "      <td>1006.5</td>\n",
       "      <td>1001.3</td>\n",
       "      <td>475.500000</td>\n",
       "      <td>25.641667</td>\n",
       "      <td>23.891667</td>\n",
       "      <td>27.8</td>\n",
       "      <td>24.0</td>\n",
       "    </tr>\n",
       "    <tr>\n",
       "      <th>4</th>\n",
       "      <td>2000</td>\n",
       "      <td>5</td>\n",
       "      <td>13</td>\n",
       "      <td>1.4</td>\n",
       "      <td>1004.150000</td>\n",
       "      <td>1006.8</td>\n",
       "      <td>1001.3</td>\n",
       "      <td>1193.416667</td>\n",
       "      <td>27.166667</td>\n",
       "      <td>23.658333</td>\n",
       "      <td>30.6</td>\n",
       "      <td>23.3</td>\n",
       "    </tr>\n",
       "    <tr>\n",
       "      <th>...</th>\n",
       "      <td>...</td>\n",
       "      <td>...</td>\n",
       "      <td>...</td>\n",
       "      <td>...</td>\n",
       "      <td>...</td>\n",
       "      <td>...</td>\n",
       "      <td>...</td>\n",
       "      <td>...</td>\n",
       "      <td>...</td>\n",
       "      <td>...</td>\n",
       "      <td>...</td>\n",
       "      <td>...</td>\n",
       "    </tr>\n",
       "    <tr>\n",
       "      <th>5904</th>\n",
       "      <td>2020</td>\n",
       "      <td>7</td>\n",
       "      <td>27</td>\n",
       "      <td>0.0</td>\n",
       "      <td>1005.550000</td>\n",
       "      <td>1007.4</td>\n",
       "      <td>1003.1</td>\n",
       "      <td>857.950000</td>\n",
       "      <td>29.786364</td>\n",
       "      <td>19.913636</td>\n",
       "      <td>34.4</td>\n",
       "      <td>24.9</td>\n",
       "    </tr>\n",
       "    <tr>\n",
       "      <th>5905</th>\n",
       "      <td>2020</td>\n",
       "      <td>7</td>\n",
       "      <td>28</td>\n",
       "      <td>0.0</td>\n",
       "      <td>1005.481818</td>\n",
       "      <td>1007.7</td>\n",
       "      <td>1003.5</td>\n",
       "      <td>525.536364</td>\n",
       "      <td>29.768182</td>\n",
       "      <td>20.363636</td>\n",
       "      <td>33.1</td>\n",
       "      <td>26.9</td>\n",
       "    </tr>\n",
       "    <tr>\n",
       "      <th>5906</th>\n",
       "      <td>2020</td>\n",
       "      <td>7</td>\n",
       "      <td>29</td>\n",
       "      <td>0.0</td>\n",
       "      <td>1006.181818</td>\n",
       "      <td>1007.8</td>\n",
       "      <td>1004.2</td>\n",
       "      <td>876.945455</td>\n",
       "      <td>29.568182</td>\n",
       "      <td>19.154545</td>\n",
       "      <td>34.3</td>\n",
       "      <td>24.3</td>\n",
       "    </tr>\n",
       "    <tr>\n",
       "      <th>5907</th>\n",
       "      <td>2020</td>\n",
       "      <td>7</td>\n",
       "      <td>30</td>\n",
       "      <td>0.0</td>\n",
       "      <td>1006.254545</td>\n",
       "      <td>1007.9</td>\n",
       "      <td>1004.1</td>\n",
       "      <td>860.227273</td>\n",
       "      <td>29.686364</td>\n",
       "      <td>15.786364</td>\n",
       "      <td>34.5</td>\n",
       "      <td>22.7</td>\n",
       "    </tr>\n",
       "    <tr>\n",
       "      <th>5908</th>\n",
       "      <td>2020</td>\n",
       "      <td>7</td>\n",
       "      <td>31</td>\n",
       "      <td>0.0</td>\n",
       "      <td>1005.918182</td>\n",
       "      <td>1007.7</td>\n",
       "      <td>1004.2</td>\n",
       "      <td>855.659091</td>\n",
       "      <td>29.850000</td>\n",
       "      <td>18.168182</td>\n",
       "      <td>35.3</td>\n",
       "      <td>24.6</td>\n",
       "    </tr>\n",
       "  </tbody>\n",
       "</table>\n",
       "<p>5909 rows × 12 columns</p>\n",
       "</div>"
      ],
      "text/plain": [
       "       ano  mes  dia  PRECIP TOTAL    P ATM EST  P ATM MAX  P ATM MIN  \\\n",
       "0     2000    5    9           0.0  1002.700000     1002.8     1002.5   \n",
       "1     2000    5   10           0.0  1005.491667     1008.3     1002.4   \n",
       "2     2000    5   11           0.0  1004.683333     1007.6     1001.7   \n",
       "3     2000    5   12           4.2  1004.191667     1006.5     1001.3   \n",
       "4     2000    5   13           1.4  1004.150000     1006.8     1001.3   \n",
       "...    ...  ...  ...           ...          ...        ...        ...   \n",
       "5904  2020    7   27           0.0  1005.550000     1007.4     1003.1   \n",
       "5905  2020    7   28           0.0  1005.481818     1007.7     1003.5   \n",
       "5906  2020    7   29           0.0  1006.181818     1007.8     1004.2   \n",
       "5907  2020    7   30           0.0  1006.254545     1007.9     1004.1   \n",
       "5908  2020    7   31           0.0  1005.918182     1007.7     1004.2   \n",
       "\n",
       "          RAD GLB    TEMP AR   TEMP ORV  TEMP MAX  TEMP MIN  \n",
       "0      285.000000  28.150000  23.600000      29.8      26.9  \n",
       "1     1597.666667  29.075000  23.675000      32.2      23.9  \n",
       "2     1705.583333  29.175000  23.866667      31.3      24.0  \n",
       "3      475.500000  25.641667  23.891667      27.8      24.0  \n",
       "4     1193.416667  27.166667  23.658333      30.6      23.3  \n",
       "...           ...        ...        ...       ...       ...  \n",
       "5904   857.950000  29.786364  19.913636      34.4      24.9  \n",
       "5905   525.536364  29.768182  20.363636      33.1      26.9  \n",
       "5906   876.945455  29.568182  19.154545      34.3      24.3  \n",
       "5907   860.227273  29.686364  15.786364      34.5      22.7  \n",
       "5908   855.659091  29.850000  18.168182      35.3      24.6  \n",
       "\n",
       "[5909 rows x 12 columns]"
      ]
     },
     "execution_count": 117,
     "metadata": {},
     "output_type": "execute_result"
    }
   ],
   "source": [
    "df_diario"
   ]
  },
  {
   "cell_type": "code",
   "execution_count": 118,
   "metadata": {},
   "outputs": [],
   "source": [
    "target = df_diario[\"PRECIP TOTAL\"].copy()"
   ]
  },
  {
   "cell_type": "code",
   "execution_count": 119,
   "metadata": {},
   "outputs": [],
   "source": [
    "target_nm = target.copy()"
   ]
  },
  {
   "cell_type": "code",
   "execution_count": 120,
   "metadata": {},
   "outputs": [],
   "source": [
    "target.replace(0.0, False, inplace = True)"
   ]
  },
  {
   "cell_type": "code",
   "execution_count": 121,
   "metadata": {},
   "outputs": [],
   "source": [
    "target[target != False] = True"
   ]
  },
  {
   "cell_type": "markdown",
   "metadata": {},
   "source": [
    "Pricipitação Total = 0 significa que não houve chuva, qualquer número maior que zero, houve chuva"
   ]
  },
  {
   "cell_type": "code",
   "execution_count": 122,
   "metadata": {},
   "outputs": [],
   "source": [
    "target = target.astype(\"category\")"
   ]
  },
  {
   "cell_type": "code",
   "execution_count": 123,
   "metadata": {},
   "outputs": [
    {
     "data": {
      "text/plain": [
       "0       False\n",
       "1       False\n",
       "2       False\n",
       "3        True\n",
       "4        True\n",
       "        ...  \n",
       "5904    False\n",
       "5905    False\n",
       "5906    False\n",
       "5907    False\n",
       "5908    False\n",
       "Name: PRECIP TOTAL, Length: 5909, dtype: category\n",
       "Categories (2, object): [False, True]"
      ]
     },
     "execution_count": 123,
     "metadata": {},
     "output_type": "execute_result"
    }
   ],
   "source": [
    "target"
   ]
  },
  {
   "cell_type": "code",
   "execution_count": 125,
   "metadata": {},
   "outputs": [],
   "source": [
    "df_diario.drop([\"PRECIP TOTAL\", \"ano\", 'mes', 'dia'], inplace = True, axis = 1)"
   ]
  },
  {
   "cell_type": "markdown",
   "metadata": {},
   "source": [
    "## Dados Prontos para uso"
   ]
  },
  {
   "cell_type": "code",
   "execution_count": 126,
   "metadata": {},
   "outputs": [
    {
     "data": {
      "text/html": [
       "<div>\n",
       "<style scoped>\n",
       "    .dataframe tbody tr th:only-of-type {\n",
       "        vertical-align: middle;\n",
       "    }\n",
       "\n",
       "    .dataframe tbody tr th {\n",
       "        vertical-align: top;\n",
       "    }\n",
       "\n",
       "    .dataframe thead th {\n",
       "        text-align: right;\n",
       "    }\n",
       "</style>\n",
       "<table border=\"1\" class=\"dataframe\">\n",
       "  <thead>\n",
       "    <tr style=\"text-align: right;\">\n",
       "      <th></th>\n",
       "      <th>P ATM EST</th>\n",
       "      <th>P ATM MAX</th>\n",
       "      <th>P ATM MIN</th>\n",
       "      <th>RAD GLB</th>\n",
       "      <th>TEMP AR</th>\n",
       "      <th>TEMP ORV</th>\n",
       "      <th>TEMP MAX</th>\n",
       "      <th>TEMP MIN</th>\n",
       "    </tr>\n",
       "  </thead>\n",
       "  <tbody>\n",
       "    <tr>\n",
       "      <th>0</th>\n",
       "      <td>1002.700000</td>\n",
       "      <td>1002.8</td>\n",
       "      <td>1002.5</td>\n",
       "      <td>285.000000</td>\n",
       "      <td>28.150000</td>\n",
       "      <td>23.600000</td>\n",
       "      <td>29.8</td>\n",
       "      <td>26.9</td>\n",
       "    </tr>\n",
       "    <tr>\n",
       "      <th>1</th>\n",
       "      <td>1005.491667</td>\n",
       "      <td>1008.3</td>\n",
       "      <td>1002.4</td>\n",
       "      <td>1597.666667</td>\n",
       "      <td>29.075000</td>\n",
       "      <td>23.675000</td>\n",
       "      <td>32.2</td>\n",
       "      <td>23.9</td>\n",
       "    </tr>\n",
       "    <tr>\n",
       "      <th>2</th>\n",
       "      <td>1004.683333</td>\n",
       "      <td>1007.6</td>\n",
       "      <td>1001.7</td>\n",
       "      <td>1705.583333</td>\n",
       "      <td>29.175000</td>\n",
       "      <td>23.866667</td>\n",
       "      <td>31.3</td>\n",
       "      <td>24.0</td>\n",
       "    </tr>\n",
       "    <tr>\n",
       "      <th>3</th>\n",
       "      <td>1004.191667</td>\n",
       "      <td>1006.5</td>\n",
       "      <td>1001.3</td>\n",
       "      <td>475.500000</td>\n",
       "      <td>25.641667</td>\n",
       "      <td>23.891667</td>\n",
       "      <td>27.8</td>\n",
       "      <td>24.0</td>\n",
       "    </tr>\n",
       "    <tr>\n",
       "      <th>4</th>\n",
       "      <td>1004.150000</td>\n",
       "      <td>1006.8</td>\n",
       "      <td>1001.3</td>\n",
       "      <td>1193.416667</td>\n",
       "      <td>27.166667</td>\n",
       "      <td>23.658333</td>\n",
       "      <td>30.6</td>\n",
       "      <td>23.3</td>\n",
       "    </tr>\n",
       "  </tbody>\n",
       "</table>\n",
       "</div>"
      ],
      "text/plain": [
       "     P ATM EST  P ATM MAX  P ATM MIN      RAD GLB    TEMP AR   TEMP ORV  \\\n",
       "0  1002.700000     1002.8     1002.5   285.000000  28.150000  23.600000   \n",
       "1  1005.491667     1008.3     1002.4  1597.666667  29.075000  23.675000   \n",
       "2  1004.683333     1007.6     1001.7  1705.583333  29.175000  23.866667   \n",
       "3  1004.191667     1006.5     1001.3   475.500000  25.641667  23.891667   \n",
       "4  1004.150000     1006.8     1001.3  1193.416667  27.166667  23.658333   \n",
       "\n",
       "   TEMP MAX  TEMP MIN  \n",
       "0      29.8      26.9  \n",
       "1      32.2      23.9  \n",
       "2      31.3      24.0  \n",
       "3      27.8      24.0  \n",
       "4      30.6      23.3  "
      ]
     },
     "execution_count": 126,
     "metadata": {},
     "output_type": "execute_result"
    }
   ],
   "source": [
    "df_diario.head()"
   ]
  },
  {
   "cell_type": "code",
   "execution_count": 79,
   "metadata": {},
   "outputs": [
    {
     "data": {
      "text/plain": [
       "0    False\n",
       "1    False\n",
       "2    False\n",
       "3     True\n",
       "4     True\n",
       "Name: PRECIP TOTAL, dtype: category\n",
       "Categories (2, object): [False, True]"
      ]
     },
     "execution_count": 79,
     "metadata": {},
     "output_type": "execute_result"
    }
   ],
   "source": [
    "target.head()"
   ]
  },
  {
   "cell_type": "code",
   "execution_count": 80,
   "metadata": {},
   "outputs": [
    {
     "name": "stdout",
     "output_type": "stream",
     "text": [
      "A base dados tem 5909 entrada\n"
     ]
    }
   ],
   "source": [
    "print(f\"A base dados tem {df_diario.shape[0]} entrada\")"
   ]
  },
  {
   "cell_type": "code",
   "execution_count": 81,
   "metadata": {},
   "outputs": [
    {
     "data": {
      "text/plain": [
       "False    3389\n",
       "True     2520\n",
       "Name: PRECIP TOTAL, dtype: int64"
      ]
     },
     "execution_count": 81,
     "metadata": {},
     "output_type": "execute_result"
    }
   ],
   "source": [
    "target.value_counts()"
   ]
  },
  {
   "cell_type": "code",
   "execution_count": null,
   "metadata": {},
   "outputs": [],
   "source": []
  },
  {
   "cell_type": "markdown",
   "metadata": {},
   "source": [
    "## Regressão Linear"
   ]
  },
  {
   "cell_type": "code",
   "execution_count": 82,
   "metadata": {},
   "outputs": [
    {
     "name": "stdout",
     "output_type": "stream",
     "text": [
      "Wall time: 3.01 ms\n"
     ]
    },
    {
     "data": {
      "text/plain": [
       "((4136, 8), (1773, 8), (4136,), (1773,))"
      ]
     },
     "execution_count": 82,
     "metadata": {},
     "output_type": "execute_result"
    }
   ],
   "source": [
    "%%time\n",
    "from sklearn.model_selection import train_test_split\n",
    "\n",
    "xtreino, xteste, ytreino, yteste = train_test_split(df_diario, target, test_size=0.3) #Utilizando 30% dos dados para teste\n",
    "xtreino.shape, xteste.shape, ytreino.shape, yteste.shape"
   ]
  },
  {
   "cell_type": "code",
   "execution_count": 83,
   "metadata": {},
   "outputs": [
    {
     "name": "stdout",
     "output_type": "stream",
     "text": [
      "Wall time: 3.01 ms\n"
     ]
    }
   ],
   "source": [
    "%%time\n",
    "from sklearn.linear_model import LinearRegression\n",
    "modelo = LinearRegression().fit(xtreino, ytreino)"
   ]
  },
  {
   "cell_type": "code",
   "execution_count": 84,
   "metadata": {},
   "outputs": [
    {
     "name": "stdout",
     "output_type": "stream",
     "text": [
      "Wall time: 2 ms\n"
     ]
    },
    {
     "data": {
      "text/plain": [
       "array([0.25230959, 0.33039177, 0.85965038, 0.31956467, 0.52098485,\n",
       "       0.1356584 , 0.06727373, 0.70019291, 0.73512574])"
      ]
     },
     "execution_count": 84,
     "metadata": {},
     "output_type": "execute_result"
    }
   ],
   "source": [
    "%%time\n",
    "previsoes = modelo.predict(xteste)\n",
    "previsoes[0:9]"
   ]
  },
  {
   "cell_type": "code",
   "execution_count": 85,
   "metadata": {},
   "outputs": [
    {
     "name": "stdout",
     "output_type": "stream",
     "text": [
      "Wall time: 2 ms\n"
     ]
    },
    {
     "data": {
      "text/plain": [
       "0.39409174949588555"
      ]
     },
     "execution_count": 85,
     "metadata": {},
     "output_type": "execute_result"
    }
   ],
   "source": [
    "%%time\n",
    "modelo.score(xteste, yteste)"
   ]
  },
  {
   "cell_type": "code",
   "execution_count": 86,
   "metadata": {},
   "outputs": [
    {
     "data": {
      "text/plain": [
       "array([-6.27847904e-02,  3.37985894e-02,  1.06171198e-02, -1.48578791e-04,\n",
       "       -1.69453288e-01,  3.91251641e-02,  6.11227981e-02, -1.02752034e-02])"
      ]
     },
     "execution_count": 86,
     "metadata": {},
     "output_type": "execute_result"
    }
   ],
   "source": [
    "modelo.coef_"
   ]
  },
  {
   "cell_type": "markdown",
   "metadata": {},
   "source": [
    "## RandomTree"
   ]
  },
  {
   "cell_type": "code",
   "execution_count": 128,
   "metadata": {},
   "outputs": [],
   "source": [
    "from sklearn.ensemble import RandomForestClassifier\n",
    "from sklearn.datasets import make_classification"
   ]
  },
  {
   "cell_type": "code",
   "execution_count": 129,
   "metadata": {},
   "outputs": [],
   "source": [
    "clf = RandomForestClassifier(max_depth=8, random_state=0)\n"
   ]
  },
  {
   "cell_type": "code",
   "execution_count": 130,
   "metadata": {},
   "outputs": [
    {
     "ename": "ValueError",
     "evalue": "Unknown label type: 'continuous'",
     "output_type": "error",
     "traceback": [
      "\u001b[1;31m---------------------------------------------------------------------------\u001b[0m",
      "\u001b[1;31mValueError\u001b[0m                                Traceback (most recent call last)",
      "\u001b[1;32m<ipython-input-130-dd494017a33d>\u001b[0m in \u001b[0;36m<module>\u001b[1;34m\u001b[0m\n\u001b[1;32m----> 1\u001b[1;33m \u001b[0mclf\u001b[0m\u001b[1;33m.\u001b[0m\u001b[0mfit\u001b[0m\u001b[1;33m(\u001b[0m\u001b[0mdf_diario\u001b[0m\u001b[1;33m,\u001b[0m\u001b[0mtarget_nm\u001b[0m\u001b[1;33m)\u001b[0m\u001b[1;33m\u001b[0m\u001b[1;33m\u001b[0m\u001b[0m\n\u001b[0m",
      "\u001b[1;32m~\\anaconda3\\lib\\site-packages\\sklearn\\ensemble\\_forest.py\u001b[0m in \u001b[0;36mfit\u001b[1;34m(self, X, y, sample_weight)\u001b[0m\n\u001b[0;32m    328\u001b[0m         \u001b[0mself\u001b[0m\u001b[1;33m.\u001b[0m\u001b[0mn_outputs_\u001b[0m \u001b[1;33m=\u001b[0m \u001b[0my\u001b[0m\u001b[1;33m.\u001b[0m\u001b[0mshape\u001b[0m\u001b[1;33m[\u001b[0m\u001b[1;36m1\u001b[0m\u001b[1;33m]\u001b[0m\u001b[1;33m\u001b[0m\u001b[1;33m\u001b[0m\u001b[0m\n\u001b[0;32m    329\u001b[0m \u001b[1;33m\u001b[0m\u001b[0m\n\u001b[1;32m--> 330\u001b[1;33m         \u001b[0my\u001b[0m\u001b[1;33m,\u001b[0m \u001b[0mexpanded_class_weight\u001b[0m \u001b[1;33m=\u001b[0m \u001b[0mself\u001b[0m\u001b[1;33m.\u001b[0m\u001b[0m_validate_y_class_weight\u001b[0m\u001b[1;33m(\u001b[0m\u001b[0my\u001b[0m\u001b[1;33m)\u001b[0m\u001b[1;33m\u001b[0m\u001b[1;33m\u001b[0m\u001b[0m\n\u001b[0m\u001b[0;32m    331\u001b[0m \u001b[1;33m\u001b[0m\u001b[0m\n\u001b[0;32m    332\u001b[0m         \u001b[1;32mif\u001b[0m \u001b[0mgetattr\u001b[0m\u001b[1;33m(\u001b[0m\u001b[0my\u001b[0m\u001b[1;33m,\u001b[0m \u001b[1;34m\"dtype\"\u001b[0m\u001b[1;33m,\u001b[0m \u001b[1;32mNone\u001b[0m\u001b[1;33m)\u001b[0m \u001b[1;33m!=\u001b[0m \u001b[0mDOUBLE\u001b[0m \u001b[1;32mor\u001b[0m \u001b[1;32mnot\u001b[0m \u001b[0my\u001b[0m\u001b[1;33m.\u001b[0m\u001b[0mflags\u001b[0m\u001b[1;33m.\u001b[0m\u001b[0mcontiguous\u001b[0m\u001b[1;33m:\u001b[0m\u001b[1;33m\u001b[0m\u001b[1;33m\u001b[0m\u001b[0m\n",
      "\u001b[1;32m~\\anaconda3\\lib\\site-packages\\sklearn\\ensemble\\_forest.py\u001b[0m in \u001b[0;36m_validate_y_class_weight\u001b[1;34m(self, y)\u001b[0m\n\u001b[0;32m    556\u001b[0m \u001b[1;33m\u001b[0m\u001b[0m\n\u001b[0;32m    557\u001b[0m     \u001b[1;32mdef\u001b[0m \u001b[0m_validate_y_class_weight\u001b[0m\u001b[1;33m(\u001b[0m\u001b[0mself\u001b[0m\u001b[1;33m,\u001b[0m \u001b[0my\u001b[0m\u001b[1;33m)\u001b[0m\u001b[1;33m:\u001b[0m\u001b[1;33m\u001b[0m\u001b[1;33m\u001b[0m\u001b[0m\n\u001b[1;32m--> 558\u001b[1;33m         \u001b[0mcheck_classification_targets\u001b[0m\u001b[1;33m(\u001b[0m\u001b[0my\u001b[0m\u001b[1;33m)\u001b[0m\u001b[1;33m\u001b[0m\u001b[1;33m\u001b[0m\u001b[0m\n\u001b[0m\u001b[0;32m    559\u001b[0m \u001b[1;33m\u001b[0m\u001b[0m\n\u001b[0;32m    560\u001b[0m         \u001b[0my\u001b[0m \u001b[1;33m=\u001b[0m \u001b[0mnp\u001b[0m\u001b[1;33m.\u001b[0m\u001b[0mcopy\u001b[0m\u001b[1;33m(\u001b[0m\u001b[0my\u001b[0m\u001b[1;33m)\u001b[0m\u001b[1;33m\u001b[0m\u001b[1;33m\u001b[0m\u001b[0m\n",
      "\u001b[1;32m~\\anaconda3\\lib\\site-packages\\sklearn\\utils\\multiclass.py\u001b[0m in \u001b[0;36mcheck_classification_targets\u001b[1;34m(y)\u001b[0m\n\u001b[0;32m    170\u001b[0m     if y_type not in ['binary', 'multiclass', 'multiclass-multioutput',\n\u001b[0;32m    171\u001b[0m                       'multilabel-indicator', 'multilabel-sequences']:\n\u001b[1;32m--> 172\u001b[1;33m         \u001b[1;32mraise\u001b[0m \u001b[0mValueError\u001b[0m\u001b[1;33m(\u001b[0m\u001b[1;34m\"Unknown label type: %r\"\u001b[0m \u001b[1;33m%\u001b[0m \u001b[0my_type\u001b[0m\u001b[1;33m)\u001b[0m\u001b[1;33m\u001b[0m\u001b[1;33m\u001b[0m\u001b[0m\n\u001b[0m\u001b[0;32m    173\u001b[0m \u001b[1;33m\u001b[0m\u001b[0m\n\u001b[0;32m    174\u001b[0m \u001b[1;33m\u001b[0m\u001b[0m\n",
      "\u001b[1;31mValueError\u001b[0m: Unknown label type: 'continuous'"
     ]
    }
   ],
   "source": [
    "clf.fit(df_diario,target_nm)"
   ]
  },
  {
   "cell_type": "markdown",
   "metadata": {},
   "source": [
    "## KNN"
   ]
  },
  {
   "cell_type": "code",
   "execution_count": null,
   "metadata": {},
   "outputs": [],
   "source": []
  },
  {
   "cell_type": "code",
   "execution_count": null,
   "metadata": {},
   "outputs": [],
   "source": []
  }
 ],
 "metadata": {
  "kernelspec": {
   "display_name": "Python 3",
   "language": "python",
   "name": "python3"
  },
  "language_info": {
   "codemirror_mode": {
    "name": "ipython",
    "version": 3
   },
   "file_extension": ".py",
   "mimetype": "text/x-python",
   "name": "python",
   "nbconvert_exporter": "python",
   "pygments_lexer": "ipython3",
   "version": "3.8.5"
  }
 },
 "nbformat": 4,
 "nbformat_minor": 1
}
